{
 "cells": [
  {
   "cell_type": "code",
   "execution_count": 1,
   "id": "6ce458dc",
   "metadata": {
    "colab": {
     "base_uri": "https://localhost:8080/",
     "height": 380
    },
    "id": "6ce458dc",
    "outputId": "3d7e2a31-dd74-41cb-91bf-a7bd9ef620f5"
   },
   "outputs": [
    {
     "data": {
      "text/html": [
       "<div>\n",
       "<style scoped>\n",
       "    .dataframe tbody tr th:only-of-type {\n",
       "        vertical-align: middle;\n",
       "    }\n",
       "\n",
       "    .dataframe tbody tr th {\n",
       "        vertical-align: top;\n",
       "    }\n",
       "\n",
       "    .dataframe thead th {\n",
       "        text-align: right;\n",
       "    }\n",
       "</style>\n",
       "<table border=\"1\" class=\"dataframe\">\n",
       "  <thead>\n",
       "    <tr style=\"text-align: right;\">\n",
       "      <th></th>\n",
       "      <th>name</th>\n",
       "      <th>item_condition_id</th>\n",
       "      <th>category_name</th>\n",
       "      <th>brand_name</th>\n",
       "      <th>price</th>\n",
       "      <th>shipping</th>\n",
       "      <th>item_description</th>\n",
       "    </tr>\n",
       "    <tr>\n",
       "      <th>train_id</th>\n",
       "      <th></th>\n",
       "      <th></th>\n",
       "      <th></th>\n",
       "      <th></th>\n",
       "      <th></th>\n",
       "      <th></th>\n",
       "      <th></th>\n",
       "    </tr>\n",
       "  </thead>\n",
       "  <tbody>\n",
       "    <tr>\n",
       "      <th>0</th>\n",
       "      <td>MLB Cincinnati Reds T Shirt Size XL</td>\n",
       "      <td>3</td>\n",
       "      <td>Men/Tops/T-shirts</td>\n",
       "      <td>NaN</td>\n",
       "      <td>10.0</td>\n",
       "      <td>1</td>\n",
       "      <td>No description yet</td>\n",
       "    </tr>\n",
       "    <tr>\n",
       "      <th>1</th>\n",
       "      <td>Razer BlackWidow Chroma Keyboard</td>\n",
       "      <td>3</td>\n",
       "      <td>Electronics/Computers &amp; Tablets/Components &amp; P...</td>\n",
       "      <td>Razer</td>\n",
       "      <td>52.0</td>\n",
       "      <td>0</td>\n",
       "      <td>This keyboard is in great condition and works ...</td>\n",
       "    </tr>\n",
       "    <tr>\n",
       "      <th>2</th>\n",
       "      <td>AVA-VIV Blouse</td>\n",
       "      <td>1</td>\n",
       "      <td>Women/Tops &amp; Blouses/Blouse</td>\n",
       "      <td>Target</td>\n",
       "      <td>10.0</td>\n",
       "      <td>1</td>\n",
       "      <td>Adorable top with a hint of lace and a key hol...</td>\n",
       "    </tr>\n",
       "    <tr>\n",
       "      <th>3</th>\n",
       "      <td>Leather Horse Statues</td>\n",
       "      <td>1</td>\n",
       "      <td>Home/Home Décor/Home Décor Accents</td>\n",
       "      <td>NaN</td>\n",
       "      <td>35.0</td>\n",
       "      <td>1</td>\n",
       "      <td>New with tags. Leather horses. Retail for [rm]...</td>\n",
       "    </tr>\n",
       "    <tr>\n",
       "      <th>4</th>\n",
       "      <td>24K GOLD plated rose</td>\n",
       "      <td>1</td>\n",
       "      <td>Women/Jewelry/Necklaces</td>\n",
       "      <td>NaN</td>\n",
       "      <td>44.0</td>\n",
       "      <td>0</td>\n",
       "      <td>Complete with certificate of authenticity</td>\n",
       "    </tr>\n",
       "  </tbody>\n",
       "</table>\n",
       "</div>"
      ],
      "text/plain": [
       "                                         name  item_condition_id  \\\n",
       "train_id                                                           \n",
       "0         MLB Cincinnati Reds T Shirt Size XL                  3   \n",
       "1            Razer BlackWidow Chroma Keyboard                  3   \n",
       "2                              AVA-VIV Blouse                  1   \n",
       "3                       Leather Horse Statues                  1   \n",
       "4                        24K GOLD plated rose                  1   \n",
       "\n",
       "                                              category_name brand_name  price  \\\n",
       "train_id                                                                        \n",
       "0                                         Men/Tops/T-shirts        NaN   10.0   \n",
       "1         Electronics/Computers & Tablets/Components & P...      Razer   52.0   \n",
       "2                               Women/Tops & Blouses/Blouse     Target   10.0   \n",
       "3                        Home/Home Décor/Home Décor Accents        NaN   35.0   \n",
       "4                                   Women/Jewelry/Necklaces        NaN   44.0   \n",
       "\n",
       "          shipping                                   item_description  \n",
       "train_id                                                               \n",
       "0                1                                 No description yet  \n",
       "1                0  This keyboard is in great condition and works ...  \n",
       "2                1  Adorable top with a hint of lace and a key hol...  \n",
       "3                1  New with tags. Leather horses. Retail for [rm]...  \n",
       "4                0          Complete with certificate of authenticity  "
      ]
     },
     "execution_count": 1,
     "metadata": {},
     "output_type": "execute_result"
    }
   ],
   "source": [
    "import pandas as pd\n",
    "\n",
    "X_full = pd.read_csv('train.tsv', sep = '\\t', index_col='train_id')\n",
    "X_full.head()"
   ]
  },
  {
   "cell_type": "code",
   "execution_count": 2,
   "id": "1f67bd9f",
   "metadata": {
    "colab": {
     "base_uri": "https://localhost:8080/",
     "height": 200
    },
    "id": "1f67bd9f",
    "outputId": "bbc28b90-e866-4b52-ef6d-1fd431147ef3"
   },
   "outputs": [],
   "source": [
    "X_full.dropna(axis=0, subset=['price'], inplace=True)\n",
    "y = X_full.price\n",
    "X_full.drop(['price'], axis=1, inplace=True)"
   ]
  },
  {
   "cell_type": "code",
   "execution_count": 3,
   "id": "8f7371b1",
   "metadata": {
    "id": "8f7371b1"
   },
   "outputs": [],
   "source": [
    "categories = X_full['category_name'].str.split('/', expand = True, n=2)"
   ]
  },
  {
   "cell_type": "code",
   "execution_count": 4,
   "id": "f2ade256",
   "metadata": {
    "id": "f2ade256"
   },
   "outputs": [
    {
     "data": {
      "text/html": [
       "<div>\n",
       "<style scoped>\n",
       "    .dataframe tbody tr th:only-of-type {\n",
       "        vertical-align: middle;\n",
       "    }\n",
       "\n",
       "    .dataframe tbody tr th {\n",
       "        vertical-align: top;\n",
       "    }\n",
       "\n",
       "    .dataframe thead th {\n",
       "        text-align: right;\n",
       "    }\n",
       "</style>\n",
       "<table border=\"1\" class=\"dataframe\">\n",
       "  <thead>\n",
       "    <tr style=\"text-align: right;\">\n",
       "      <th></th>\n",
       "      <th>cat1</th>\n",
       "      <th>cat2</th>\n",
       "      <th>cat3</th>\n",
       "    </tr>\n",
       "    <tr>\n",
       "      <th>train_id</th>\n",
       "      <th></th>\n",
       "      <th></th>\n",
       "      <th></th>\n",
       "    </tr>\n",
       "  </thead>\n",
       "  <tbody>\n",
       "    <tr>\n",
       "      <th>0</th>\n",
       "      <td>Men</td>\n",
       "      <td>Tops</td>\n",
       "      <td>T-shirts</td>\n",
       "    </tr>\n",
       "    <tr>\n",
       "      <th>1</th>\n",
       "      <td>Electronics</td>\n",
       "      <td>Computers &amp; Tablets</td>\n",
       "      <td>Components &amp; Parts</td>\n",
       "    </tr>\n",
       "    <tr>\n",
       "      <th>2</th>\n",
       "      <td>Women</td>\n",
       "      <td>Tops &amp; Blouses</td>\n",
       "      <td>Blouse</td>\n",
       "    </tr>\n",
       "    <tr>\n",
       "      <th>3</th>\n",
       "      <td>Home</td>\n",
       "      <td>Home Décor</td>\n",
       "      <td>Home Décor Accents</td>\n",
       "    </tr>\n",
       "    <tr>\n",
       "      <th>4</th>\n",
       "      <td>Women</td>\n",
       "      <td>Jewelry</td>\n",
       "      <td>Necklaces</td>\n",
       "    </tr>\n",
       "  </tbody>\n",
       "</table>\n",
       "</div>"
      ],
      "text/plain": [
       "                 cat1                 cat2                cat3\n",
       "train_id                                                      \n",
       "0                 Men                 Tops            T-shirts\n",
       "1         Electronics  Computers & Tablets  Components & Parts\n",
       "2               Women       Tops & Blouses              Blouse\n",
       "3                Home           Home Décor  Home Décor Accents\n",
       "4               Women              Jewelry           Necklaces"
      ]
     },
     "execution_count": 4,
     "metadata": {},
     "output_type": "execute_result"
    }
   ],
   "source": [
    "categories.columns = ['cat1', 'cat2', 'cat3']\n",
    "categories.head()"
   ]
  },
  {
   "cell_type": "code",
   "execution_count": 5,
   "id": "f491b646",
   "metadata": {
    "id": "f491b646"
   },
   "outputs": [
    {
     "data": {
      "text/html": [
       "<div>\n",
       "<style scoped>\n",
       "    .dataframe tbody tr th:only-of-type {\n",
       "        vertical-align: middle;\n",
       "    }\n",
       "\n",
       "    .dataframe tbody tr th {\n",
       "        vertical-align: top;\n",
       "    }\n",
       "\n",
       "    .dataframe thead th {\n",
       "        text-align: right;\n",
       "    }\n",
       "</style>\n",
       "<table border=\"1\" class=\"dataframe\">\n",
       "  <thead>\n",
       "    <tr style=\"text-align: right;\">\n",
       "      <th></th>\n",
       "      <th>name</th>\n",
       "      <th>item_condition_id</th>\n",
       "      <th>brand_name</th>\n",
       "      <th>shipping</th>\n",
       "      <th>item_description</th>\n",
       "      <th>cat1</th>\n",
       "      <th>cat2</th>\n",
       "      <th>cat3</th>\n",
       "    </tr>\n",
       "    <tr>\n",
       "      <th>train_id</th>\n",
       "      <th></th>\n",
       "      <th></th>\n",
       "      <th></th>\n",
       "      <th></th>\n",
       "      <th></th>\n",
       "      <th></th>\n",
       "      <th></th>\n",
       "      <th></th>\n",
       "    </tr>\n",
       "  </thead>\n",
       "  <tbody>\n",
       "    <tr>\n",
       "      <th>0</th>\n",
       "      <td>MLB Cincinnati Reds T Shirt Size XL</td>\n",
       "      <td>3</td>\n",
       "      <td>NaN</td>\n",
       "      <td>1</td>\n",
       "      <td>No description yet</td>\n",
       "      <td>Men</td>\n",
       "      <td>Tops</td>\n",
       "      <td>T-shirts</td>\n",
       "    </tr>\n",
       "    <tr>\n",
       "      <th>1</th>\n",
       "      <td>Razer BlackWidow Chroma Keyboard</td>\n",
       "      <td>3</td>\n",
       "      <td>Razer</td>\n",
       "      <td>0</td>\n",
       "      <td>This keyboard is in great condition and works ...</td>\n",
       "      <td>Electronics</td>\n",
       "      <td>Computers &amp; Tablets</td>\n",
       "      <td>Components &amp; Parts</td>\n",
       "    </tr>\n",
       "    <tr>\n",
       "      <th>2</th>\n",
       "      <td>AVA-VIV Blouse</td>\n",
       "      <td>1</td>\n",
       "      <td>Target</td>\n",
       "      <td>1</td>\n",
       "      <td>Adorable top with a hint of lace and a key hol...</td>\n",
       "      <td>Women</td>\n",
       "      <td>Tops &amp; Blouses</td>\n",
       "      <td>Blouse</td>\n",
       "    </tr>\n",
       "    <tr>\n",
       "      <th>3</th>\n",
       "      <td>Leather Horse Statues</td>\n",
       "      <td>1</td>\n",
       "      <td>NaN</td>\n",
       "      <td>1</td>\n",
       "      <td>New with tags. Leather horses. Retail for [rm]...</td>\n",
       "      <td>Home</td>\n",
       "      <td>Home Décor</td>\n",
       "      <td>Home Décor Accents</td>\n",
       "    </tr>\n",
       "    <tr>\n",
       "      <th>4</th>\n",
       "      <td>24K GOLD plated rose</td>\n",
       "      <td>1</td>\n",
       "      <td>NaN</td>\n",
       "      <td>0</td>\n",
       "      <td>Complete with certificate of authenticity</td>\n",
       "      <td>Women</td>\n",
       "      <td>Jewelry</td>\n",
       "      <td>Necklaces</td>\n",
       "    </tr>\n",
       "  </tbody>\n",
       "</table>\n",
       "</div>"
      ],
      "text/plain": [
       "                                         name  item_condition_id brand_name  \\\n",
       "train_id                                                                      \n",
       "0         MLB Cincinnati Reds T Shirt Size XL                  3        NaN   \n",
       "1            Razer BlackWidow Chroma Keyboard                  3      Razer   \n",
       "2                              AVA-VIV Blouse                  1     Target   \n",
       "3                       Leather Horse Statues                  1        NaN   \n",
       "4                        24K GOLD plated rose                  1        NaN   \n",
       "\n",
       "          shipping                                   item_description  \\\n",
       "train_id                                                                \n",
       "0                1                                 No description yet   \n",
       "1                0  This keyboard is in great condition and works ...   \n",
       "2                1  Adorable top with a hint of lace and a key hol...   \n",
       "3                1  New with tags. Leather horses. Retail for [rm]...   \n",
       "4                0          Complete with certificate of authenticity   \n",
       "\n",
       "                 cat1                 cat2                cat3  \n",
       "train_id                                                        \n",
       "0                 Men                 Tops            T-shirts  \n",
       "1         Electronics  Computers & Tablets  Components & Parts  \n",
       "2               Women       Tops & Blouses              Blouse  \n",
       "3                Home           Home Décor  Home Décor Accents  \n",
       "4               Women              Jewelry           Necklaces  "
      ]
     },
     "execution_count": 5,
     "metadata": {},
     "output_type": "execute_result"
    }
   ],
   "source": [
    "X_full.drop(['category_name'], inplace=True, axis=1)\n",
    "X_full = pd.concat([X_full, categories], axis=1)\n",
    "X_full.head()"
   ]
  },
  {
   "cell_type": "code",
   "execution_count": 6,
   "id": "c5fed125",
   "metadata": {
    "id": "c5fed125"
   },
   "outputs": [
    {
     "data": {
      "text/plain": [
       "name                      0\n",
       "item_condition_id         0\n",
       "brand_name           632682\n",
       "shipping                  0\n",
       "item_description          4\n",
       "cat1                   6327\n",
       "cat2                   6327\n",
       "cat3                   6327\n",
       "dtype: int64"
      ]
     },
     "execution_count": 6,
     "metadata": {},
     "output_type": "execute_result"
    }
   ],
   "source": [
    "X_full.isnull().sum()"
   ]
  },
  {
   "cell_type": "code",
   "execution_count": 7,
   "id": "ab1f4a2d",
   "metadata": {
    "id": "ab1f4a2d"
   },
   "outputs": [],
   "source": [
    "numerical_columns = ['shipping', 'item_condition_id']\n",
    "categorical_columns = ['name', 'brand_name', 'item_description', 'cat1', 'cat2', 'cat3']"
   ]
  },
  {
   "cell_type": "code",
   "execution_count": 8,
   "id": "8898505b",
   "metadata": {
    "id": "8898505b"
   },
   "outputs": [
    {
     "data": {
      "text/plain": [
       "name                 0\n",
       "item_condition_id    0\n",
       "brand_name           0\n",
       "shipping             0\n",
       "item_description     0\n",
       "cat1                 0\n",
       "cat2                 0\n",
       "cat3                 0\n",
       "dtype: int64"
      ]
     },
     "execution_count": 8,
     "metadata": {},
     "output_type": "execute_result"
    }
   ],
   "source": [
    "from sklearn.impute import SimpleImputer\n",
    "\n",
    "imputer = SimpleImputer(strategy='constant', fill_value='Missing')\n",
    "imputed_X_full = pd.DataFrame(imputer.fit_transform(X_full))\n",
    "\n",
    "imputed_X_full.columns = X_full.columns\n",
    "imputed_X_full.isnull().sum()"
   ]
  },
  {
   "cell_type": "code",
   "execution_count": 9,
   "id": "51c0e8d8",
   "metadata": {
    "id": "51c0e8d8"
   },
   "outputs": [
    {
     "data": {
      "text/plain": [
       "name                 1225273\n",
       "item_condition_id          5\n",
       "brand_name              4809\n",
       "shipping                   2\n",
       "item_description     1281426\n",
       "cat1                      10\n",
       "cat2                     113\n",
       "cat3                     871\n",
       "dtype: int64"
      ]
     },
     "execution_count": 9,
     "metadata": {},
     "output_type": "execute_result"
    }
   ],
   "source": [
    "X_full.nunique()"
   ]
  },
  {
   "cell_type": "code",
   "execution_count": 10,
   "id": "ab966bd9",
   "metadata": {
    "id": "ab966bd9"
   },
   "outputs": [],
   "source": [
    "from sklearn.model_selection import train_test_split\n",
    "\n",
    "X_train, X_valid, y_train, y_valid = train_test_split(imputed_X_full, y, train_size=0.9, test_size=0.1, random_state=0)"
   ]
  },
  {
   "cell_type": "code",
   "execution_count": 11,
   "id": "85dde842",
   "metadata": {
    "id": "85dde842"
   },
   "outputs": [],
   "source": [
    "from sklearn.feature_extraction.text import CountVectorizer\n",
    "\n",
    "vectorizer1 = CountVectorizer(lowercase=False, binary=True)\n",
    "X_train_brand_OH = vectorizer1.fit_transform(X_train['brand_name'].values)\n",
    "X_valid_brand_OH = vectorizer1.transform(X_valid['brand_name'].values)\n",
    "\n",
    "vectorizer2 = CountVectorizer(lowercase=False, binary=True)\n",
    "X_train_cat1_OH = vectorizer2.fit_transform(X_train['cat1'].values)\n",
    "X_valid_cat1_OH = vectorizer2.transform(X_valid['cat1'].values)\n",
    "\n",
    "vectorizer3 = CountVectorizer(lowercase=False, binary=True)\n",
    "X_train_cat2_OH = vectorizer3.fit_transform(X_train['cat2'].values)\n",
    "X_valid_cat2_OH = vectorizer3.transform(X_valid['cat2'].values)\n",
    "\n",
    "vectorizer4 = CountVectorizer(lowercase=False, binary=True)\n",
    "X_train_cat3_OH = vectorizer4.fit_transform(X_train['cat3'].values)\n",
    "X_valid_cat3_OH = vectorizer4.transform(X_valid['cat3'].values)"
   ]
  },
  {
   "cell_type": "code",
   "execution_count": 12,
   "id": "36b2c7d1",
   "metadata": {
    "id": "36b2c7d1"
   },
   "outputs": [],
   "source": [
    "from sklearn.feature_extraction.text import TfidfVectorizer\n",
    "\n",
    "t_vectorizer1 = TfidfVectorizer(ngram_range=(1, 3), min_df=3, max_features=250000)\n",
    "\n",
    "X_train_name_tfidf = t_vectorizer1.fit_transform(X_train['name'].values)\n",
    "X_valid_name_tfidf = t_vectorizer1.transform(X_valid['name'].values)\n",
    "\n",
    "t_vectorizer2 = TfidfVectorizer(ngram_range=(1, 3), min_df=5, max_features=500000)\n",
    "\n",
    "X_train_description_tfidf = t_vectorizer2.fit_transform(X_train['item_description'].values)\n",
    "X_valid_description_tfidf = t_vectorizer2.transform(X_valid['item_description'].values)"
   ]
  },
  {
   "cell_type": "code",
   "execution_count": 25,
   "id": "mdStzkA2rxY4",
   "metadata": {
    "id": "mdStzkA2rxY4"
   },
   "outputs": [],
   "source": [
    "from scipy.sparse import csr_matrix\n",
    "\n",
    "X_train_cat = csr_matrix(X_train[numerical_columns].astype(int))\n",
    "\n",
    "X_valid_cat = csr_matrix(X_valid[numerical_columns].astype(int))"
   ]
  },
  {
   "cell_type": "code",
   "execution_count": 26,
   "id": "u6p5pFGtsSDX",
   "metadata": {
    "colab": {
     "base_uri": "https://localhost:8080/",
     "height": 269
    },
    "id": "u6p5pFGtsSDX",
    "outputId": "f8295206-933b-4382-cd3e-5d1c82bf8f49"
   },
   "outputs": [
    {
     "name": "stdout",
     "output_type": "stream",
     "text": [
      "(148254, 756218)\n"
     ]
    }
   ],
   "source": [
    "from scipy.sparse import hstack\n",
    "\n",
    "X_train_final = hstack((X_train_brand_OH, X_train_cat1_OH, X_train_cat2_OH, X_train_cat3_OH, X_train_name_tfidf, X_train_description_tfidf, X_train_cat)).tocsr()\n",
    "\n",
    "X_valid_final = hstack((X_valid_brand_OH, X_valid_cat1_OH, X_valid_cat2_OH, X_valid_cat3_OH, X_valid_name_tfidf, X_valid_description_tfidf, X_valid_cat)).tocsr()\n",
    "\n",
    "print(X_valid_final.shape)"
   ]
  },
  {
   "cell_type": "code",
   "execution_count": 27,
   "id": "etQMEE-D1HTh",
   "metadata": {
    "id": "etQMEE-D1HTh"
   },
   "outputs": [
    {
     "name": "stdout",
     "output_type": "stream",
     "text": [
      "30.440960614828562\n"
     ]
    }
   ],
   "source": [
    "import numpy as np\n",
    "from sklearn.metrics import mean_squared_error\n",
    "import xgboost as xgb\n",
    "xgb_model = xgb.XGBRegressor(n_estimators=100, max_depth=3, learning_rate=0.1)\n",
    "xgb_model.fit(X_train_final, y_train)\n",
    "xgb_pred = xgb_model.predict(X_valid_final)\n",
    "\n",
    "print(np.sqrt(mean_squared_error(y_valid, xgb_pred)))"
   ]
  },
  {
   "cell_type": "code",
   "execution_count": null,
   "id": "62404e3e",
   "metadata": {},
   "outputs": [],
   "source": [
    "from sklearn.ensemble import GradientBoostingRegressor\n",
    "gb = GradientBoostingRegressor(n_estimators=100, max_depth=3, learning_rate=0.1)\n",
    "gb.fit(X_train_final, y_train)\n",
    "gb_pred = gb.predict(X_valid_final)\n",
    "\n",
    "print(np.sqrt(mean_squared_error(y_valid, gb_pred)))"
   ]
  },
  {
   "cell_type": "code",
   "execution_count": null,
   "id": "8e2c849c",
   "metadata": {},
   "outputs": [],
   "source": [
    "from catboost import CatBoostRegressor\n",
    "cat_model = CatBoostRegressor(n_estimators=100, max_depth=3, learning_rate=0.1)\n",
    "cat_model.fit(X_train_final, y_train)\n",
    "cat_pred = cat_model.predict(X_valid_final)\n",
    "\n",
    "print(np.sqrt(mean_squared_error(y_valid, cat_pred)))"
   ]
  },
  {
   "cell_type": "code",
   "execution_count": null,
   "id": "f297026e",
   "metadata": {},
   "outputs": [],
   "source": [
    "import lightgbm as lgb\n",
    "lgb_model = lgb.LGBMRegressor(n_estimators=100, max_depth=3, learning_rate=0.1)\n",
    "lgb_model.fit(X_train_final, y_train)\n",
    "lgb_pred = lgb_model.predict(X_valid_final)\n",
    "\n",
    "print(np.sqrt(mean_squared_error(y_valid, lgb_pred)))"
   ]
  },
  {
   "cell_type": "code",
   "execution_count": 28,
   "id": "b1f1f3a1",
   "metadata": {},
   "outputs": [],
   "source": [
    "import pickle\n",
    "\n",
    "with open('../models/xgb_model.pkl', 'wb') as fout:\n",
    "    pickle.dump((vectorizer1, vectorizer2, vectorizer3, vectorizer4, t_vectorizer1, t_vectorizer2, xgb_model), fout)"
   ]
  },
  {
   "cell_type": "code",
   "execution_count": 15,
   "id": "d8ed61fa",
   "metadata": {},
   "outputs": [
    {
     "name": "stdout",
     "output_type": "stream",
     "text": [
      "(148254, 5083) (148254, 13) (148254, 143) (148254, 977) (148254, 250000) (148254, 500000) (148254, 7)\n"
     ]
    }
   ],
   "source": [
    "print(X_valid_brand_OH.shape, X_valid_cat1_OH.shape, X_valid_cat2_OH.shape, X_valid_cat3_OH.shape, X_valid_name_tfidf.shape, X_valid_description_tfidf.shape, X_valid_cat.shape)"
   ]
  },
  {
   "cell_type": "code",
   "execution_count": null,
   "id": "12a94ccc",
   "metadata": {},
   "outputs": [],
   "source": []
  }
 ],
 "metadata": {
  "accelerator": "GPU",
  "colab": {
   "gpuType": "T4",
   "provenance": []
  },
  "kernelspec": {
   "display_name": "Python 3 (ipykernel)",
   "language": "python",
   "name": "python3"
  },
  "language_info": {
   "codemirror_mode": {
    "name": "ipython",
    "version": 3
   },
   "file_extension": ".py",
   "mimetype": "text/x-python",
   "name": "python",
   "nbconvert_exporter": "python",
   "pygments_lexer": "ipython3",
   "version": "3.10.9"
  }
 },
 "nbformat": 4,
 "nbformat_minor": 5
}
